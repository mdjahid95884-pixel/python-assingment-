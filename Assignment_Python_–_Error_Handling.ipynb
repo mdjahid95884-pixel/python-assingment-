{
  "nbformat": 4,
  "nbformat_minor": 0,
  "metadata": {
    "colab": {
      "provenance": []
    },
    "kernelspec": {
      "name": "python3",
      "display_name": "Python 3"
    },
    "language_info": {
      "name": "python"
    }
  },
  "cells": [
    {
      "cell_type": "markdown",
      "source": [
        "Question 1 : What is the difference between multithreading and multiprocessing\n"
      ],
      "metadata": {
        "id": "vX5UHyCWbvj3"
      }
    },
    {
      "cell_type": "code",
      "execution_count": 15,
      "metadata": {
        "colab": {
          "base_uri": "https://localhost:8080/"
        },
        "id": "Y3TXE4VcZsNw",
        "outputId": "e0d1fc15-7902-4738-fd28-7b4caa9815a1"
      },
      "outputs": [
        {
          "output_type": "stream",
          "name": "stdout",
          "text": [
            "Thread: 0\n",
            "Thread: 1\n",
            "Thread: 2\n",
            "Thread: 3\n",
            "Thread: 4\n",
            "Thread: 0\n",
            "Thread: 1\n",
            "Thread: 2\n",
            "Thread: 3\n",
            "Thread: 4\n",
            "Process: 0\n",
            "Process: 1\n",
            "Process: 2Process:\n",
            " Process:0 \n",
            "3Process:\n",
            " 1Process:\n",
            " Process:4 2\n",
            "\n",
            "Process: 3\n",
            "Process: 4\n"
          ]
        }
      ],
      "source": [
        "\"\"\" Multithreading = Multiple threads in one process, shared memory, faster for I/O tasks\n",
        "    Multiprocessing = Multiple processes with separate memory, faster for CPU tasks \"\"\"\n",
        "\n",
        "# Multithreading Example\n",
        "\n",
        "import threading\n",
        "\n",
        "def show_numbers():\n",
        "    for i in range(5):\n",
        "        print(\"Thread:\", i)\n",
        "\n",
        "t1 = threading.Thread(target=show_numbers)\n",
        "t2 = threading.Thread(target=show_numbers)\n",
        "\n",
        "t1.start()\n",
        "t2.start()\n",
        "t1.join()\n",
        "t2.join()\n",
        "\n",
        "\n",
        "\n",
        "\n",
        "# Multiprocessing Example\n",
        "\n",
        "import multiprocessing\n",
        "\n",
        "def show_numbers():\n",
        "    for i in range(5):\n",
        "        print(\"Process:\", i)\n",
        "\n",
        "p1 = multiprocessing.Process(target=show_numbers)\n",
        "p2 = multiprocessing.Process(target=show_numbers)\n",
        "\n",
        "p1.start()\n",
        "p2.start()\n",
        "\n",
        "p1.join()\n",
        "p2.join()\n",
        "\n",
        "\n"
      ]
    },
    {
      "cell_type": "markdown",
      "source": [
        "Question 2: What are the challenges associated with memory management in Python\n"
      ],
      "metadata": {
        "id": "b9VxYnP3c6L3"
      }
    },
    {
      "cell_type": "code",
      "source": [
        "\"\"\" while Python simplifies memory management for developers, challenges such as garbage collection overhead, reference cycles,\n",
        "memory leaks, and fragmentation can impact performance. To handle these effectively, developers often use tools like gc, sys,\n",
        "or tracemalloc to monitor and optimize memory usage \"\"\"\n",
        "\n"
      ],
      "metadata": {
        "id": "E-zPfbgQc-z4"
      },
      "execution_count": null,
      "outputs": []
    },
    {
      "cell_type": "markdown",
      "source": [
        "Question 3:Write a Python program that logs an error message to a log file when a division by zero exception occurs.\n",
        "\n"
      ],
      "metadata": {
        "id": "yEuw5bsrd96C"
      }
    },
    {
      "cell_type": "code",
      "source": [
        "import logging\n",
        "\n",
        "logging.basicConfig(filename=\"log_file.log\", level=logging.ERROR)\n",
        "\n",
        "try:\n",
        "    num1 = int(input(\"Enter first number: \"))\n",
        "    num2 = int(input(\"Enter second number: \"))\n",
        "    result = num1 / num2\n",
        "    print(\"Result:\", result)\n",
        "\n",
        "except ZeroDivisionError:\n",
        "    print(\"Error: You cannot divide a number by zero!\")\n",
        "    logging.error(\"Division by zero error occurred.\")\n"
      ],
      "metadata": {
        "colab": {
          "base_uri": "https://localhost:8080/"
        },
        "id": "hP8GYFdGeEHB",
        "outputId": "fabb1e01-a73c-4142-92b8-946c61d067b5"
      },
      "execution_count": 16,
      "outputs": [
        {
          "name": "stdout",
          "output_type": "stream",
          "text": [
            "Enter first number: 10\n",
            "Enter second number: 0\n"
          ]
        },
        {
          "output_type": "stream",
          "name": "stderr",
          "text": [
            "ERROR:root:Division by zero error occurred.\n"
          ]
        },
        {
          "output_type": "stream",
          "name": "stdout",
          "text": [
            "Error: You cannot divide a number by zero!\n"
          ]
        }
      ]
    },
    {
      "cell_type": "markdown",
      "source": [
        "Question 4:Write a Python program that reads from one file and writes its content to another file"
      ],
      "metadata": {
        "id": "gkxcYfxzfQ3l"
      }
    },
    {
      "cell_type": "code",
      "source": [
        "# Create a dummy source file\n",
        "with open(\"source.txt\", \"w\") as f:\n",
        "    f.write(\"This is the content of the source file.\")"
      ],
      "metadata": {
        "id": "rypblKcWfy9k"
      },
      "execution_count": 20,
      "outputs": []
    },
    {
      "cell_type": "code",
      "source": [
        "with open(\"source.txt\", \"r\") as file1:\n",
        "    data = file1.read()\n",
        "\n",
        "with open(\"destination.txt\", \"w\") as file2:\n",
        "    file2.write(data)\n",
        "\n",
        "print(\"File content copied successfully!\")\n"
      ],
      "metadata": {
        "colab": {
          "base_uri": "https://localhost:8080/"
        },
        "id": "yuuh2omPfb1H",
        "outputId": "464e2ad7-196a-4f5f-f9ea-9041282e415c"
      },
      "execution_count": 21,
      "outputs": [
        {
          "output_type": "stream",
          "name": "stdout",
          "text": [
            "File content copied successfully!\n"
          ]
        }
      ]
    },
    {
      "cell_type": "markdown",
      "source": [
        "Question 5: Write a program that handles both IndexError and KeyError using a try-except block\n"
      ],
      "metadata": {
        "id": "gMw2R0OBf7ss"
      }
    },
    {
      "cell_type": "code",
      "source": [
        "try:\n",
        "    my_list = [10, 20, 30]\n",
        "    print(my_list[5])\n",
        "\n",
        "    my_dict = {\"name\": \"Jahid\", \"age\": 25}\n",
        "    print(my_dict[\"city\"])\n",
        "\n",
        "except IndexError:\n",
        "    print(\"Error: You tried to access an index that doesn’t exist in the list.\")\n",
        "\n",
        "except KeyError:\n",
        "    print(\"Error: You tried to access a key that doesn’t exist in the dictionary.\")\n"
      ],
      "metadata": {
        "colab": {
          "base_uri": "https://localhost:8080/"
        },
        "id": "vo3IVbXSgOE6",
        "outputId": "6c9b18b7-d91b-4b90-e051-797d23fb4092"
      },
      "execution_count": 23,
      "outputs": [
        {
          "output_type": "stream",
          "name": "stdout",
          "text": [
            "Error: You tried to access an index that doesn’t exist in the list.\n"
          ]
        }
      ]
    },
    {
      "cell_type": "markdown",
      "source": [
        "Question 6: What are the differences between NumPy arrays and Python lists\n"
      ],
      "metadata": {
        "id": "YDdyYdTPgb0P"
      }
    },
    {
      "cell_type": "code",
      "source": [
        "\"\"\"NumPy arrays are faster, memory-efficient, and ideal for numerical computations,\n",
        "while Python lists are flexible and can store mixed data types \"\"\""
      ],
      "metadata": {
        "id": "em_m_Zucgav_"
      },
      "execution_count": null,
      "outputs": []
    },
    {
      "cell_type": "markdown",
      "source": [
        "Question 7:Explain the difference between apply() and map() in Pandas\n"
      ],
      "metadata": {
        "id": "u99ebL7PgxaN"
      }
    },
    {
      "cell_type": "code",
      "source": [
        "\"\"\" map() is used with Series to apply a function element-wise or map values using a dictionary.\n",
        "apply() can be used with Series and DataFrames and can apply a function row-wise or column-wise.\n",
        "map() is simpler and limited to element-wise operations, while apply() is more versatile for complex transformations \"\"\""
      ],
      "metadata": {
        "id": "uW5voPW3hPxD"
      },
      "execution_count": null,
      "outputs": []
    },
    {
      "cell_type": "markdown",
      "source": [
        "Question 8: Create a histogram using Seaborn to visualize a distribution.\n"
      ],
      "metadata": {
        "id": "tH8yCk7IhypT"
      }
    },
    {
      "cell_type": "code",
      "source": [
        "import seaborn as sns\n",
        "import matplotlib.pyplot as plt\n",
        "\n",
        "data = [10, 15, 20, 20, 25, 30, 30, 30, 35, 40]\n",
        "sns.histplot(data, bins=5, kde=True)\n",
        "plt.title(\"Histogram of Data\")\n",
        "plt.xlabel(\"Value\")\n",
        "plt.ylabel(\"Frequency\")\n",
        "plt.show()\n"
      ],
      "metadata": {
        "colab": {
          "base_uri": "https://localhost:8080/",
          "height": 472
        },
        "id": "-EY2F5ACh6lH",
        "outputId": "8288468e-45e0-4898-8216-31f2a46e2f79"
      },
      "execution_count": 24,
      "outputs": [
        {
          "output_type": "display_data",
          "data": {
            "text/plain": [
              "<Figure size 640x480 with 1 Axes>"
            ],
            "image/png": "[encoded data removed]"
          },
          "metadata": {}
        }
      ]
    },
    {
      "cell_type": "markdown",
      "source": [
        "Question 9: Use Pandas to load a CSV file and display its first 5 rows.\n"
      ],
      "metadata": {
        "id": "orH0uAQXiJUH"
      }
    },
    {
      "cell_type": "code",
      "source": [
        "import pandas as pd\n",
        "\n",
        "dummy_data = {'col1': [1, 2, 3, 4, 5],\n",
        "              'col2': ['A', 'B', 'C', 'D', 'E']}\n",
        "dummy_df = pd.DataFrame(dummy_data)\n",
        "\n",
        "dummy_df.to_csv('data.csv', index=False)\n",
        "\n",
        "print(\"Dummy 'data.csv' file created successfully.\")"
      ],
      "metadata": {
        "colab": {
          "base_uri": "https://localhost:8080/"
        },
        "id": "MIUIwE_rilX4",
        "outputId": "05da7542-7caa-430c-bbde-c74dcbb254aa"
      },
      "execution_count": 27,
      "outputs": [
        {
          "output_type": "stream",
          "name": "stdout",
          "text": [
            "Dummy 'data.csv' file created successfully.\n"
          ]
        }
      ]
    },
    {
      "cell_type": "code",
      "source": [
        "import pandas as pd\n",
        "\n",
        "df = pd.read_csv(\"data.csv\")\n",
        "print(df.head())\n"
      ],
      "metadata": {
        "colab": {
          "base_uri": "https://localhost:8080/"
        },
        "id": "K8g_B0Q3iI6b",
        "outputId": "7f487947-2093-4de7-b47d-0a288d7b9e91"
      },
      "execution_count": 29,
      "outputs": [
        {
          "output_type": "stream",
          "name": "stdout",
          "text": [
            "   col1 col2\n",
            "0     1    A\n",
            "1     2    B\n",
            "2     3    C\n",
            "3     4    D\n",
            "4     5    E\n"
          ]
        }
      ]
    },
    {
      "cell_type": "markdown",
      "source": [
        "Question 10: Calculate the correlation matrix using Seaborn and visualize it with a heatmap"
      ],
      "metadata": {
        "id": "Ncppa4wFiyCN"
      }
    },
    {
      "cell_type": "code",
      "source": [
        "import pandas as pd\n",
        "import seaborn as sns\n",
        "import matplotlib.pyplot as plt\n",
        "data = {\n",
        "    'A': [1, 2, 3, 4, 5],\n",
        "    'B': [5, 4, 3, 2, 1],\n",
        "    'C': [2, 3, 4, 5, 6]\n",
        "}\n",
        "\n",
        "df = pd.DataFrame(data)\n",
        "corr = df.corr()\n",
        "\n",
        "sns.heatmap(corr, annot=True, cmap='coolwarm')\n",
        "plt.title(\"Correlation Heatmap\")\n",
        "plt.show()\n"
      ],
      "metadata": {
        "colab": {
          "base_uri": "https://localhost:8080/",
          "height": 452
        },
        "id": "q9IaEXKMi7lX",
        "outputId": "af55a027-d63b-4c56-d452-2ec53680fb62"
      },
      "execution_count": 30,
      "outputs": [
        {
          "output_type": "display_data",
          "data": {
            "text/plain": [
              "<Figure size 640x480 with 2 Axes>"
            ],
            "image/png": "[encoded data removed]"
          },
          "metadata": {}
        }
      ]
    }
  ]
}